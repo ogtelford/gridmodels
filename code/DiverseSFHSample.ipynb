{
 "cells": [
  {
   "cell_type": "markdown",
   "metadata": {},
   "source": [
    "# Generating 100,000 FSPS Spectra with Diverse SFHs\n",
    "\n",
    "Goal is to get a more thoroughly sampled manifold, with more diverse star formation histories spanning a wider range of mean ages...\n",
    "Updated 2017-02-07 to use zcontinuous=1 (vs. integer values for metallicity)"
   ]
  },
  {
   "cell_type": "code",
   "execution_count": 1,
   "metadata": {
    "collapsed": true
   },
   "outputs": [],
   "source": [
    "# imports and plotting setup\n",
    "import numpy as np\n",
    "import matplotlib as mpl\n",
    "import matplotlib.pyplot as plt\n",
    "%matplotlib inline\n",
    "import fsps\n",
    "from astroML.plotting import setup_text_plots\n",
    "import h5py\n",
    "\n",
    "np.set_printoptions(suppress=True)\n",
    "setup_text_plots(fontsize=24)\n",
    "mpl.rc('xtick', labelsize=18)\n",
    "mpl.rc('ytick', labelsize=18)\n",
    "mpl.rc('font', size=24, family='serif', style='normal', variant='normal', stretch='normal', weight='bold')\n",
    "mpl.rc('legend', labelspacing=0.1, handlelength=2, fontsize=13)\n",
    "mpl.rc('axes', labelweight='black')"
   ]
  },
  {
   "cell_type": "markdown",
   "metadata": {},
   "source": [
    "#### Allow sf_begin, fburst, tburst, tau, z, dust2 to vary -- age will be weighted average of ages of different components. For metallicity, must choose randint between 0 and 22. sf_begin, fburst, tau distributed logarithmically; z, bust2, tburst uniform"
   ]
  },
  {
   "cell_type": "code",
   "execution_count": 2,
   "metadata": {
    "collapsed": false
   },
   "outputs": [],
   "source": [
    "# get 100,000 samples\n",
    "size=100000\n",
    "\n",
    "#sf_begin = np.random.uniform(low=0.0, high=12.2, size=size)\n",
    "logsf_begins = np.random.uniform(low=np.log10(0.1), high=np.log10(12.2), size=size)\n",
    "sf_begins = 10**logsf_begins\n",
    "As = 13.7 - sf_begins\n",
    "\n",
    "logtbursts = np.array([])\n",
    "for ii in range(size):\n",
    "    logtbursts = np.append(logtbursts, np.random.uniform(low=np.log10(sf_begins[ii]), high=np.log10(13.6)))\n",
    "tbursts = 10**logtbursts\n",
    "\n",
    "logfbursts = np.random.uniform(low=np.log10(0.01), high=np.log10(0.5), size=size)\n",
    "fbursts = 10**logfbursts\n",
    "\n",
    "#taus = np.random.uniform(low=1.0, high=100, size=size) # this resulted in WAY too few old galaxies...\n",
    "logtaus = np.random.uniform(low=-0.5, high=1.5, size=size)\n",
    "taus = 10**logtaus\n",
    "tau_ages = As - taus * ( (1. - (As/taus + 1.) * np.exp(-As/taus)) / (1. - np.exp(-As/taus)) ) # mean ages given taus\n",
    "\n",
    "total_ages = (1-fbursts) * tau_ages + fbursts * (13.7 - tbursts)\n",
    "\n",
    "dusts = np.random.uniform(low=0.0, high=1.0, size=size)\n",
    "\n",
    "zs = np.random.uniform(low=-1.5, high=0.2, size=size) #not an ideal distribution; will get a lot of low metallicities...\n",
    "\n",
    "#sigmas = np.random.uniform(low=0.0, high=300.0, size=size)"
   ]
  },
  {
   "cell_type": "code",
   "execution_count": 3,
   "metadata": {
    "collapsed": false
   },
   "outputs": [],
   "source": [
    "# do metallicity separately b/c need to choose integer for each model -- logz_values copied from FSPS manual\n",
    "#logz_values = np.array([-1.98, -1.80, -1.68, -1.58, -1.50, -1.38, -1.28, -1.20, -1.07, -0.98, -0.89, -0.79, \\\n",
    "#                        -0.69, -0.59, -0.49, -0.39, -0.30, -0.20, -0.10, 0.0, 0.10, 0.20])\n",
    "\n",
    "#znums = np.random.randint(low=1, high=23, size=size) #want values from 1-22; high is exclusive\n",
    "#zinds = znums - 1 #b/c the znum starts at 1, not 0... ugh\n",
    "#zs = logz_values[zinds]"
   ]
  },
  {
   "cell_type": "code",
   "execution_count": 4,
   "metadata": {
    "collapsed": false
   },
   "outputs": [
    {
     "data": {
      "image/png": "[encoded data removed]",
      "text/plain": [
       "<matplotlib.figure.Figure at 0x7f5a603537d0>"
      ]
     },
     "metadata": {},
     "output_type": "display_data"
    }
   ],
   "source": [
    "n, bins, patches = plt.hist(total_ages, bins=50)"
   ]
  },
  {
   "cell_type": "code",
   "execution_count": 5,
   "metadata": {
    "collapsed": false
   },
   "outputs": [
    {
     "data": {
      "text/plain": [
       "12.198129673680006"
      ]
     },
     "execution_count": 5,
     "metadata": {},
     "output_type": "execute_result"
    }
   ],
   "source": [
    "np.max(sf_begins)"
   ]
  },
  {
   "cell_type": "markdown",
   "metadata": {},
   "source": [
    "#### now build the model spectra"
   ]
  },
  {
   "cell_type": "code",
   "execution_count": 6,
   "metadata": {
    "collapsed": false
   },
   "outputs": [
    {
     "name": "stdout",
     "output_type": "stream",
     "text": [
      "0 percent complete\n",
      "1 percent complete\n",
      "1 percent complete\n",
      "2 percent complete\n",
      "2 percent complete\n",
      "3 percent complete\n",
      "3 percent complete\n",
      "4 percent complete\n",
      "4 percent complete\n",
      "5 percent complete\n",
      "5 percent complete\n",
      "6 percent complete\n",
      "6 percent complete\n",
      "7 percent complete\n",
      "7 percent complete\n",
      "8 percent complete\n",
      "8 percent complete\n",
      "9 percent complete\n",
      "9 percent complete\n",
      "10 percent complete\n",
      "10 percent complete\n",
      "11 percent complete\n",
      "11 percent complete\n",
      "12 percent complete\n",
      "12 percent complete\n",
      "13 percent complete\n",
      "13 percent complete\n",
      "14 percent complete\n",
      "14 percent complete\n",
      "15 percent complete\n",
      "15 percent complete\n",
      "16 percent complete\n",
      "16 percent complete\n",
      "17 percent complete\n",
      "17 percent complete\n",
      "18 percent complete\n",
      "18 percent complete\n",
      "19 percent complete\n",
      "19 percent complete\n",
      "20 percent complete\n",
      "20 percent complete\n",
      "21 percent complete\n",
      "21 percent complete\n",
      "22 percent complete\n",
      "22 percent complete\n",
      "23 percent complete\n",
      "23 percent complete\n",
      "24 percent complete\n",
      "24 percent complete\n",
      "25 percent complete\n",
      "25 percent complete\n",
      "26 percent complete\n",
      "26 percent complete\n",
      "27 percent complete\n",
      "27 percent complete\n",
      "28 percent complete\n",
      "28 percent complete\n",
      "29 percent complete\n",
      "29 percent complete\n",
      "30 percent complete\n",
      "30 percent complete\n",
      "31 percent complete\n",
      "31 percent complete\n",
      "32 percent complete\n",
      "32 percent complete\n",
      "33 percent complete\n",
      "33 percent complete\n",
      "34 percent complete\n",
      "34 percent complete\n",
      "35 percent complete\n",
      "35 percent complete\n",
      "36 percent complete\n",
      "36 percent complete\n",
      "37 percent complete\n",
      "37 percent complete\n",
      "38 percent complete\n",
      "38 percent complete\n",
      "39 percent complete\n",
      "39 percent complete\n",
      "40 percent complete\n",
      "40 percent complete\n",
      "41 percent complete\n",
      "41 percent complete\n",
      "42 percent complete\n",
      "42 percent complete\n",
      "43 percent complete\n",
      "43 percent complete\n",
      "44 percent complete\n",
      "44 percent complete\n",
      "45 percent complete\n",
      "45 percent complete\n",
      "46 percent complete\n",
      "46 percent complete\n",
      "47 percent complete\n",
      "47 percent complete\n",
      "48 percent complete\n",
      "48 percent complete\n",
      "49 percent complete\n",
      "49 percent complete\n",
      "50 percent complete\n",
      "50 percent complete\n",
      "51 percent complete\n",
      "51 percent complete\n",
      "52 percent complete\n",
      "52 percent complete\n",
      "53 percent complete\n",
      "53 percent complete\n",
      "54 percent complete\n",
      "54 percent complete\n",
      "55 percent complete\n",
      "55 percent complete\n",
      "56 percent complete\n",
      "56 percent complete\n",
      "57 percent complete\n",
      "57 percent complete\n",
      "58 percent complete\n",
      "58 percent complete\n",
      "59 percent complete\n",
      "59 percent complete\n",
      "60 percent complete\n",
      "60 percent complete\n",
      "61 percent complete\n",
      "61 percent complete\n",
      "62 percent complete\n",
      "62 percent complete\n",
      "63 percent complete\n",
      "63 percent complete\n",
      "64 percent complete\n",
      "64 percent complete\n",
      "65 percent complete\n",
      "65 percent complete\n",
      "66 percent complete\n",
      "66 percent complete\n",
      "67 percent complete\n",
      "67 percent complete\n",
      "68 percent complete\n",
      "68 percent complete\n",
      "69 percent complete\n",
      "69 percent complete\n",
      "70 percent complete\n",
      "70 percent complete\n",
      "71 percent complete\n",
      "71 percent complete\n",
      "72 percent complete\n",
      "72 percent complete\n",
      "73 percent complete\n",
      "73 percent complete\n",
      "74 percent complete\n",
      "74 percent complete\n",
      "75 percent complete\n",
      "75 percent complete\n",
      "76 percent complete\n",
      "76 percent complete\n",
      "77 percent complete\n",
      "77 percent complete\n",
      "78 percent complete\n",
      "78 percent complete\n",
      "79 percent complete\n",
      "79 percent complete\n",
      "80 percent complete\n",
      "80 percent complete\n",
      "81 percent complete\n",
      "81 percent complete\n",
      "82 percent complete\n",
      "82 percent complete\n",
      "83 percent complete\n",
      "83 percent complete\n",
      "84 percent complete\n",
      "84 percent complete\n",
      "85 percent complete\n",
      "85 percent complete\n",
      "86 percent complete\n",
      "86 percent complete\n",
      "87 percent complete\n",
      "87 percent complete\n",
      "88 percent complete\n",
      "88 percent complete\n",
      "89 percent complete\n",
      "89 percent complete\n",
      "90 percent complete\n",
      "90 percent complete\n",
      "91 percent complete\n",
      "91 percent complete\n",
      "92 percent complete\n",
      "92 percent complete\n",
      "93 percent complete\n",
      "93 percent complete\n",
      "94 percent complete\n",
      "94 percent complete\n",
      "95 percent complete\n",
      "95 percent complete\n",
      "96 percent complete\n",
      "96 percent complete\n",
      "97 percent complete\n",
      "97 percent complete\n",
      "98 percent complete\n",
      "98 percent complete\n",
      "99 percent complete\n",
      "99 percent complete\n",
      "100 percent complete\n"
     ]
    }
   ],
   "source": [
    "spectra = np.zeros((size, 4220)) #know there are 4220 steps in desired wavelength range\n",
    "mags = np.zeros((size, 5)) # save mags in 5 SDSS filters\n",
    "bands = fsps.find_filter('sdss') # u, g, i, r, z (NOTE SILLY ORDERING)\n",
    "ii = 0\n",
    "\n",
    "for sf_begin, tburst, fburst, tau, dust, z  in zip(sf_begins, tbursts, fbursts, taus, dusts, zs):\n",
    "    sp = fsps.StellarPopulation(compute_vega_mags=False, sfh=4, sigma_smooth=100., dust_type=2,\n",
    "                                add_neb_emission=False, sf_start=sf_begin, tburst=tburst, fburst=fburst,\n",
    "                                tau=tau, dust2=dust, zcontinuous=1, logzsol=z)\n",
    "    wave, spec = sp.get_spectrum(tage=13.7, peraa=True)\n",
    "    wh = (wave < 7400.) * (wave > 3600.)\n",
    "    spectra[ii, :] = spec[wh]\n",
    "    mags[ii, :] = sp.get_mags(bands=fsps.find_filter('sdss'), tage=13.7)\n",
    "    ii += 1\n",
    "    if ii%500 == 0:\n",
    "        percent = ii/1000.\n",
    "        print \"%d percent complete\" % percent"
   ]
  },
  {
   "cell_type": "markdown",
   "metadata": {},
   "source": [
    "#### normalize the spectra"
   ]
  },
  {
   "cell_type": "code",
   "execution_count": 7,
   "metadata": {
    "collapsed": false
   },
   "outputs": [],
   "source": [
    "norms = spectra.shape[1] / np.sum(spectra, axis=1)\n",
    "spectra_norm = spectra * norms[:,np.newaxis]"
   ]
  },
  {
   "cell_type": "code",
   "execution_count": 8,
   "metadata": {
    "collapsed": false
   },
   "outputs": [
    {
     "data": {
      "text/plain": [
       "[<matplotlib.lines.Line2D at 0x7f5907a3ea10>]"
      ]
     },
     "execution_count": 8,
     "metadata": {},
     "output_type": "execute_result"
    },
    {
     "data": {
      "image/png": "[encoded data removed]",
      "text/plain": [
       "<matplotlib.figure.Figure at 0x7f59d291ec90>"
      ]
     },
     "metadata": {},
     "output_type": "display_data"
    }
   ],
   "source": [
    "# quick sanity check\n",
    "plt.figure()\n",
    "plt.plot(wave[wh], spectra_norm[100])\n",
    "plt.plot(wave[wh], spectra_norm[1009])\n",
    "plt.plot(wave[wh], spectra_norm[6095])\n",
    "plt.plot(wave[wh], spectra_norm[9998])\n",
    "plt.plot(wave[wh], spectra_norm[50628])\n",
    "plt.plot(wave[wh], spectra_norm[82534])"
   ]
  },
  {
   "cell_type": "markdown",
   "metadata": {},
   "source": [
    "#### save spectra and parameters to HDF5 file"
   ]
  },
  {
   "cell_type": "code",
   "execution_count": 9,
   "metadata": {
    "collapsed": false
   },
   "outputs": [
    {
     "data": {
      "text/plain": [
       "<HDF5 dataset \"dusts\": shape (100000,), type \"<f8\">"
      ]
     },
     "execution_count": 9,
     "metadata": {},
     "output_type": "execute_result"
    }
   ],
   "source": [
    "f = h5py.File('../data/1e5_spectra_diverseSFH_17-02-07.hdf5','w')\n",
    "f.create_dataset('spectra', data=spectra_norm)\n",
    "f.create_dataset('wave', data=wave[wh])\n",
    "f.create_dataset('sdss_mags', data=mags)\n",
    "f.create_dataset('sf_begins', data=sf_begins)\n",
    "f.create_dataset('tbursts', data=tbursts)\n",
    "f.create_dataset('fbursts', data=fbursts)\n",
    "f.create_dataset('taus', data=taus)\n",
    "f.create_dataset('mean_ages', data=total_ages)\n",
    "f.create_dataset('zs', data=zs)\n",
    "f.create_dataset('dusts', data=dusts)"
   ]
  },
  {
   "cell_type": "code",
   "execution_count": 10,
   "metadata": {
    "collapsed": false
   },
   "outputs": [
    {
     "data": {
      "text/plain": [
       "[u'dusts',\n",
       " u'fbursts',\n",
       " u'mean_ages',\n",
       " u'sdss_mags',\n",
       " u'sf_begins',\n",
       " u'spectra',\n",
       " u'taus',\n",
       " u'tbursts',\n",
       " u'wave',\n",
       " u'zs']"
      ]
     },
     "execution_count": 10,
     "metadata": {},
     "output_type": "execute_result"
    }
   ],
   "source": [
    "f.keys()"
   ]
  },
  {
   "cell_type": "code",
   "execution_count": 11,
   "metadata": {
    "collapsed": false
   },
   "outputs": [
    {
     "data": {
      "text/plain": [
       "(100000, 4220)"
      ]
     },
     "execution_count": 11,
     "metadata": {},
     "output_type": "execute_result"
    }
   ],
   "source": [
    "f['spectra'].shape"
   ]
  },
  {
   "cell_type": "code",
   "execution_count": 12,
   "metadata": {
    "collapsed": true
   },
   "outputs": [],
   "source": [
    "f.close()"
   ]
  },
  {
   "cell_type": "code",
   "execution_count": null,
   "metadata": {
    "collapsed": true
   },
   "outputs": [],
   "source": []
  }
 ],
 "metadata": {
  "anaconda-cloud": {},
  "kernelspec": {
   "display_name": "Python [default]",
   "language": "python",
   "name": "python2"
  },
  "language_info": {
   "codemirror_mode": {
    "name": "ipython",
    "version": 2
   },
   "file_extension": ".py",
   "mimetype": "text/x-python",
   "name": "python",
   "nbconvert_exporter": "python",
   "pygments_lexer": "ipython2",
   "version": "2.7.13"
  }
 },
 "nbformat": 4,
 "nbformat_minor": 1
}
