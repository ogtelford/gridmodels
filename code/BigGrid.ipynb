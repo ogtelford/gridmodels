{
 "cells": [
  {
   "cell_type": "markdown",
   "metadata": {},
   "source": [
    "# Generating 10,000 FSPS spectra"
   ]
  },
  {
   "cell_type": "code",
   "execution_count": 1,
   "metadata": {
    "collapsed": false
   },
   "outputs": [],
   "source": [
    "# imports and plotting setup\n",
    "import numpy as np\n",
    "import matplotlib as mpl\n",
    "import matplotlib.pyplot as plt\n",
    "%matplotlib inline\n",
    "import fsps\n",
    "from astroML.plotting import setup_text_plots\n",
    "\n",
    "np.set_printoptions(suppress=True)\n",
    "setup_text_plots(fontsize=24)\n",
    "mpl.rc('xtick', labelsize=18)\n",
    "mpl.rc('ytick', labelsize=18)\n",
    "mpl.rc('font', size=24, family='serif', style='normal', variant='normal', stretch='normal', weight='bold')\n",
    "mpl.rc('legend', labelspacing=0.1, handlelength=2, fontsize=13)\n",
    "mpl.rc('axes', labelweight='black')"
   ]
  },
  {
   "cell_type": "markdown",
   "metadata": {},
   "source": [
    "### Idea for more intelligent way to build up the lists of parameters: nested for loops to iterate over the params of interest, building up equal-length lists, then use zip() to build the actual matrix of model spectra"
   ]
  },
  {
   "cell_type": "code",
   "execution_count": 2,
   "metadata": {
    "collapsed": true
   },
   "outputs": [],
   "source": [
    "# set the ranges of parameters we are considering -- 4 parameters (tau, Z, dust2, sigma_smooth) in 10 steps\n",
    "\n",
    "A = 12.5 # time since the galaxy we're observing started forming stars\n",
    "sf_begin = 13.7 - A # Gyr after big bang\n",
    "\n",
    "tau_values = np.logspace(-1, 2, 10) #log-spaced bins from 0.1 - 100 \n",
    "age_values = A - tau_values * ( (1. - (A/tau_values + 1.) * np.exp(-A/tau_values)) / \\\n",
    "                             (1. - np.exp(-A/tau_values)) ) # mean ages given taus\n",
    "\n",
    "z_values = np.array([-1.98, -1.58, -1.28, -0.98, -0.69, -0.2, -0.1, 0, 0.1, 0.2])\n",
    "znum_values = np.array([1, 4, 7, 10, 13, 18, 19, 20, 21, 22])\n",
    "\n",
    "dust_values = np.linspace(0, 1.5, 10)\n",
    "\n",
    "sigma_values = np.linspace(0, 300, 10)"
   ]
  },
  {
   "cell_type": "code",
   "execution_count": 3,
   "metadata": {
    "collapsed": true
   },
   "outputs": [],
   "source": [
    "taus = []\n",
    "ages = []\n",
    "zs = []\n",
    "znums = []\n",
    "dusts = []\n",
    "sigmas = []\n",
    "\n",
    "steps = 10\n",
    "\n",
    "for tt in range(steps):\n",
    "    for zz in range(steps):\n",
    "        for dd in range(steps):\n",
    "            for ss in range(steps):\n",
    "                taus.append(tau_values[tt])\n",
    "                ages.append(age_values[tt])\n",
    "                \n",
    "                zs.append(z_values[zz])\n",
    "                znums.append(znum_values[zz])\n",
    "                \n",
    "                dusts.append(dust_values[dd])\n",
    "                \n",
    "                sigmas.append(sigma_values[ss])"
   ]
  },
  {
   "cell_type": "code",
   "execution_count": 5,
   "metadata": {
    "collapsed": false
   },
   "outputs": [
    {
     "name": "stdout",
     "output_type": "stream",
     "text": [
      "1 complete\n",
      "2 complete\n",
      "3 complete\n",
      "4 complete\n",
      "5 complete\n",
      "6 complete\n",
      "7 complete\n",
      "8 complete\n",
      "9 complete\n",
      "10 complete\n",
      "11 complete\n",
      "12 complete\n",
      "13 complete\n",
      "14 complete\n",
      "15 complete\n",
      "16 complete\n",
      "17 complete\n",
      "18 complete\n",
      "19 complete\n",
      "20 complete\n",
      "21 complete\n",
      "22 complete\n",
      "23 complete\n",
      "24 complete\n",
      "25 complete\n",
      "26 complete\n",
      "27 complete\n",
      "28 complete\n",
      "29 complete\n",
      "30 complete\n",
      "31 complete\n",
      "32 complete\n",
      "33 complete\n",
      "34 complete\n",
      "35 complete\n",
      "36 complete\n",
      "37 complete\n",
      "38 complete\n",
      "39 complete\n",
      "40 complete\n",
      "41 complete\n",
      "42 complete\n",
      "43 complete\n",
      "44 complete\n",
      "45 complete\n",
      "46 complete\n",
      "47 complete\n",
      "48 complete\n",
      "49 complete\n",
      "50 complete\n",
      "51 complete\n",
      "52 complete\n",
      "53 complete\n",
      "54 complete\n",
      "55 complete\n",
      "56 complete\n",
      "57 complete\n",
      "58 complete\n",
      "59 complete\n",
      "60 complete\n",
      "61 complete\n",
      "62 complete\n",
      "63 complete\n",
      "64 complete\n",
      "65 complete\n",
      "66 complete\n",
      "67 complete\n",
      "68 complete\n",
      "69 complete\n",
      "70 complete\n",
      "71 complete\n",
      "72 complete\n",
      "73 complete\n",
      "74 complete\n",
      "75 complete\n",
      "76 complete\n",
      "77 complete\n",
      "78 complete\n",
      "79 complete\n",
      "80 complete\n",
      "81 complete\n",
      "82 complete\n",
      "83 complete\n",
      "84 complete\n",
      "85 complete\n",
      "86 complete\n",
      "87 complete\n",
      "88 complete\n",
      "89 complete\n",
      "90 complete\n",
      "91 complete\n",
      "92 complete\n",
      "93 complete\n",
      "94 complete\n",
      "95 complete\n",
      "96 complete\n",
      "97 complete\n",
      "98 complete\n",
      "99 complete\n",
      "100 complete\n"
     ]
    }
   ],
   "source": [
    "spectra = np.zeros((steps**4, 4220)) #know there are 4220 steps in desired wavelength range\n",
    "ii = 0\n",
    "\n",
    "for tau, znum, dust, sigma in zip(taus, znums, dusts, sigmas):\n",
    "    sp = fsps.StellarPopulation(compute_vega_mags=False, sfh=1,  zmet=znum, sigma_smooth=sigma, \\\n",
    "                    dust_type=2, dust2=dust, sf_start=sf_begin, tau=tau, add_neb_emission=False)\n",
    "    wave, spec = sp.get_spectrum(tage=12.5, peraa=True)\n",
    "    wh = (wave < 7400.) * (wave > 3600.)\n",
    "    spectra[ii, :] = spec[wh]\n",
    "    ii += 1\n",
    "    if ii%500 == 0:\n",
    "        percent = ii/100\n",
    "        print \"%d percent complete\" % percent"
   ]
  },
  {
   "cell_type": "markdown",
   "metadata": {},
   "source": [
    "### Normalize the spectra"
   ]
  },
  {
   "cell_type": "code",
   "execution_count": 9,
   "metadata": {
    "collapsed": false
   },
   "outputs": [],
   "source": [
    "norms = spectra.shape[1] / np.sum(spectra, axis=1)\n",
    "spectra_norm = spectra * norms[:,np.newaxis]"
   ]
  },
  {
   "cell_type": "code",
   "execution_count": 11,
   "metadata": {
    "collapsed": false
   },
   "outputs": [
    {
     "data": {
      "text/plain": [
       "[<matplotlib.lines.Line2D at 0x164b26950>]"
      ]
     },
     "execution_count": 11,
     "metadata": {},
     "output_type": "execute_result"
    },
    {
     "data": {
      "image/png": "[encoded data removed]",
      "text/plain": [
       "<matplotlib.figure.Figure at 0x1649950d0>"
      ]
     },
     "metadata": {},
     "output_type": "display_data"
    }
   ],
   "source": [
    "plt.figure()\n",
    "plt.plot(wave[wh], spectra_norm[100])\n",
    "plt.plot(wave[wh], spectra_norm[1009])\n",
    "plt.plot(wave[wh], spectra_norm[6095])\n",
    "plt.plot(wave[wh], spectra_norm[9998])"
   ]
  },
  {
   "cell_type": "markdown",
   "metadata": {},
   "source": [
    "### Save the spectra and parameter lists to an HDF5 file"
   ]
  },
  {
   "cell_type": "code",
   "execution_count": 14,
   "metadata": {
    "collapsed": true
   },
   "outputs": [],
   "source": [
    "import h5py"
   ]
  },
  {
   "cell_type": "code",
   "execution_count": 15,
   "metadata": {
    "collapsed": false
   },
   "outputs": [
    {
     "data": {
      "text/plain": [
       "<HDF5 dataset \"sigmas\": shape (10000,), type \"<f8\">"
      ]
     },
     "execution_count": 15,
     "metadata": {},
     "output_type": "execute_result"
    }
   ],
   "source": [
    "f = h5py.File('../data/1e4_model_spectra.hdf5','a')\n",
    "f.create_dataset('spectra', data=spectra_norm)\n",
    "f.create_dataset('wave', data=wave[wh])\n",
    "f.create_dataset('taus', data=taus)\n",
    "f.create_dataset('ages', data=ages)\n",
    "f.create_dataset('znums', data=znums)\n",
    "f.create_dataset('zs', data=zs)\n",
    "f.create_dataset('dusts', data=dusts)\n",
    "f.create_dataset('sigmas', data=sigmas)"
   ]
  },
  {
   "cell_type": "code",
   "execution_count": 16,
   "metadata": {
    "collapsed": false
   },
   "outputs": [
    {
     "data": {
      "text/plain": [
       "[u'ages', u'dusts', u'sigmas', u'spectra', u'taus', u'wave', u'znums', u'zs']"
      ]
     },
     "execution_count": 16,
     "metadata": {},
     "output_type": "execute_result"
    }
   ],
   "source": [
    "f.keys()"
   ]
  },
  {
   "cell_type": "code",
   "execution_count": 17,
   "metadata": {
    "collapsed": false
   },
   "outputs": [
    {
     "data": {
      "text/plain": [
       "(10000, 4220)"
      ]
     },
     "execution_count": 17,
     "metadata": {},
     "output_type": "execute_result"
    }
   ],
   "source": [
    "f['spectra'].shape"
   ]
  },
  {
   "cell_type": "code",
   "execution_count": 18,
   "metadata": {
    "collapsed": true
   },
   "outputs": [],
   "source": [
    "f.close()"
   ]
  },
  {
   "cell_type": "code",
   "execution_count": null,
   "metadata": {
    "collapsed": true
   },
   "outputs": [],
   "source": []
  }
 ],
 "metadata": {
  "kernelspec": {
   "display_name": "Python [default]",
   "language": "python",
   "name": "python2"
  },
  "language_info": {
   "codemirror_mode": {
    "name": "ipython",
    "version": 2
   },
   "file_extension": ".py",
   "mimetype": "text/x-python",
   "name": "python",
   "nbconvert_exporter": "python",
   "pygments_lexer": "ipython2",
   "version": "2.7.12"
  }
 },
 "nbformat": 4,
 "nbformat_minor": 1
}
